{
 "cells": [
  {
   "attachments": {},
   "cell_type": "markdown",
   "metadata": {},
   "source": [
    "# Line Search Methods (Week 1)"
   ]
  },
  {
   "attachments": {},
   "cell_type": "markdown",
   "metadata": {},
   "source": [
    "## Step Length\n",
    "\n",
    "Each iteration of line search methods requires a step length $\\alpha_k$ and a search direction $p_k$ to be computed, the update is\n",
    "\n",
    "$$x_{k+1} = x_k + \\alpha_k p_k.$$\n",
    "\n",
    "Once the search direction $p_k$ is computed, the step length $\\alpha_k$ is then computed to reduce the objective function $f$. Usually, $\\alpha_k$ should be compromised between the reduction of $f$ and the computational cost of computing $\\alpha_k$. Ideally, the best choice is the so-called ``exact line search'' which finds the optimal $\\alpha_k$ that minimizes the following single-variable function $\\phi(\\cdot)$ by\n",
    "\n",
    "$$\\phi(\\alpha) := f(x_k + \\alpha p_k),\\quad \\alpha > 0.$$\n",
    "\n",
    "In general, it is quite expensive to find the optimal $\\alpha_k$ in each iteration. Therefore, we usually use some simple strategies to find a good $\\alpha_k$, which leads to the ``inexact line search``.\n",
    "\n",
    "### Wolfe Conditions"
   ]
  },
  {
   "attachments": {},
   "cell_type": "markdown",
   "metadata": {},
   "source": [
    "## Convergence\n",
    "\n",
    "## Newton’s Method and Quasi-Newton Methods\n",
    "\n",
    "## Stochastic Gradient Descent\n",
    "\n",
    "## Step Length Selection\n",
    "\n",
    "### Exact Line Search\n",
    "\n",
    "### Backtracking Line Search\n",
    "\n",
    "## More Topics\n",
    "\n",
    "### Momentum Methods\n",
    "\n",
    "### Nesterov’s Accelerated Gradient\n",
    "\n",
    "## Exercises\n",
    "\n",
    "### Theory\n",
    "\n",
    "### Programming\n"
   ]
  }
 ],
 "metadata": {
  "kernelspec": {
   "display_name": "base",
   "language": "python",
   "name": "python3"
  },
  "language_info": {
   "name": "python",
   "version": "3.9.13"
  },
  "orig_nbformat": 4
 },
 "nbformat": 4,
 "nbformat_minor": 2
}
